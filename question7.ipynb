
import pandas as pd
from matplotlib import pyplot as plt
%matplotlib inline
df = pd.read_csv("./DataSets/insurance_data.csv")
df.head()
age	bought_insurance
0	22	0
1	25	0
2	47	1
3	52	0
4	46	1
plt.scatter(df.age,df.bought_insurance,marker='+',color='red')
<matplotlib.collections.PathCollection at 0x1fafa8a3bb0>

from sklearn.model_selection import train_test_split
X_train, X_test, y_train, y_test = train_test_split(df[['age']],df.bought_insurance,train_size=0.8)
X_test
age
22	40
10	18
24	50
19	18
26	23
14	49
from sklearn.linear_model import LogisticRegression
model = LogisticRegression()
model.fit(X_train, y_train)
LogisticRegression()
X_test
age
22	40
10	18
24	50
19	18
26	23
14	49
y_predicted = model.predict(X_test)
model.predict_proba(X_test)
array([[0.51999941, 0.48000059],
       [0.93805186, 0.06194814],
       [0.24623236, 0.75376764],
       [0.93805186, 0.06194814],
       [0.8926484 , 0.1073516 ],
       [0.26915311, 0.73084689]])
model.score(X_test,y_test)
0.8333333333333334
y_predicted
array([0, 0, 1, 0, 0, 1], dtype=int64)
X_test
age
22	40
10	18
24	50
19	18
26	23
14	49
model.coef_ indicates value of m in y=m*x + b equation

model.coef_
array([[0.11988488]])
model.intercept_ indicates value of b in y=m*x + b equation

model.intercept_
array([-4.87543559])
Lets defined sigmoid function now and do the math with hand

import math
def sigmoid(x):
  return 1 / (1 + math.exp(-x))
def prediction_function(age):
    z = 0.042 * age - 1.53 # 0.04150133 ~ 0.042 and -1.52726963 ~ -1.53
    y = sigmoid(z)
    return y
age = 35
prediction_function(age)
0.4850044983805899
0.485 is less than 0.5 which means person with 35 age will not buy insurance

age = 43
prediction_function(age)
0.568565299077705
0.485 is more than 0.5 which means person with 43 will buy the insurance

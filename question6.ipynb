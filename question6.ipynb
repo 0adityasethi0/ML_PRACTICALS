
import pandas as pd
df = pd.read_csv("./DataSets/titanic.csv")
df.head()
PassengerId	Name	Pclass	Sex	Age	SibSp	Parch	Ticket	Fare	Cabin	Embarked	Survived
0	1	Braund, Mr. Owen Harris	3	male	22.0	1	0	A/5 21171	7.2500	NaN	S	0
1	2	Cumings, Mrs. John Bradley (Florence Briggs Th...	1	female	38.0	1	0	PC 17599	71.2833	C85	C	1
2	3	Heikkinen, Miss. Laina	3	female	26.0	0	0	STON/O2. 3101282	7.9250	NaN	S	1
3	4	Futrelle, Mrs. Jacques Heath (Lily May Peel)	1	female	35.0	1	0	113803	53.1000	C123	S	1
4	5	Allen, Mr. William Henry	3	male	35.0	0	0	373450	8.0500	NaN	S	0
df.drop(['PassengerId','Name','SibSp','Parch','Ticket','Cabin','Embarked'],axis='columns',inplace=True)
df.head()
Pclass	Sex	Age	Fare	Survived
0	3	male	22.0	7.2500	0
1	1	female	38.0	71.2833	1
2	3	female	26.0	7.9250	1
3	1	female	35.0	53.1000	1
4	3	male	35.0	8.0500	0
inputs = df.drop('Survived',axis='columns')
target = df.Survived
dummies = pd.get_dummies(inputs.Sex)
dummies.head(3)
female	male
0	0	1
1	1	0
2	1	0
inputs = pd.concat([inputs,dummies],axis='columns')
inputs.head(3)
Pclass	Sex	Age	Fare	female	male
0	3	male	22.0	7.2500	0	1
1	1	female	38.0	71.2833	1	0
2	3	female	26.0	7.9250	1	0
inputs.drop(['Sex','male'],axis='columns',inplace=True)
inputs.head(3)
Pclass	Age	Fare	female
0	3	22.0	7.2500	0
1	1	38.0	71.2833	1
2	3	26.0	7.9250	1
inputs.columns[inputs.isna().any()]
Index(['Age'], dtype='object')
inputs.Age[:10]
0    22.0
1    38.0
2    26.0
3    35.0
4    35.0
5     NaN
6    54.0
7     2.0
8    27.0
9    14.0
Name: Age, dtype: float64
inputs.Age = inputs.Age.fillna(inputs.Age.mean())
inputs.head()
Pclass	Age	Fare	female
0	3	22.0	7.2500	0
1	1	38.0	71.2833	1
2	3	26.0	7.9250	1
3	1	35.0	53.1000	1
4	3	35.0	8.0500	0
from sklearn.model_selection import train_test_split
X_train, X_test, y_train, y_test = train_test_split(inputs,target,test_size=0.3)
from sklearn.naive_bayes import GaussianNB
model = GaussianNB()
model.fit(X_train,y_train)
GaussianNB()
model.score(X_test,y_test)
0.8059701492537313
X_test[0:10]
Pclass	Age	Fare	female
163	3	17.000000	8.6625	0
199	2	24.000000	13.0000	1
303	2	29.699118	12.3500	1
439	2	31.000000	10.5000	0
73	3	26.000000	14.4542	0
652	3	21.000000	8.4333	0
849	1	29.699118	89.1042	1
141	3	22.000000	7.7500	1
165	3	9.000000	20.5250	0
30	1	40.000000	27.7208	0
y_test[0:10]
163    0
199    0
303    1
439    0
73     0
652    0
849    1
141    1
165    1
30     0
Name: Survived, dtype: int64
model.predict(X_test[0:10])
array([0, 1, 1, 0, 0, 0, 1, 1, 0, 0], dtype=int64)
model.predict_proba(X_test[:10])
array([[0.95269602, 0.04730398],
       [0.27292061, 0.72707939],
       [0.28467689, 0.71532311],
       [0.91904391, 0.08095609],
       [0.96072913, 0.03927087],
       [0.95709983, 0.04290017],
       [0.01495347, 0.98504653],
       [0.44390984, 0.55609016],
       [0.93651031, 0.06348969],
       [0.73416579, 0.26583421]])
 
